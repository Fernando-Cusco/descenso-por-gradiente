{
 "cells": [
  {
   "cell_type": "markdown",
   "metadata": {
    "collapsed": true
   },
   "source": [
    "# Descenso por Gradiente: una breve introducción\n",
    "\n",
    "El descenso por gradiente, es un método que nos permite encontrar el mínimo local de una función dada. Este método parte de la selección de un valor inicial aleatorio y se toma el gradiente de dicha función en ese punto. Luego de elllo, se dan un paso hacia la dirección negativa del gradiente. Se repite el proceso hasta que el algoritmo converge cuando el valor del gradiente es **0** (lo que indica que hemos llegado al mínimo local) [1,2,3].\n",
    "\n",
    "## Descripción del algoritmo\n",
    "\n",
    "\n",
    "Los elementos más importantes de este algoritmo son los siguientes [3]:\n",
    "\n",
    "* ** Dirección y tamaño del paso: ** el primer elemento nos indica en qué dirección deberemos movernos para seguir buscando minimizar la función. El tamaño del paso especifica qué tanto nos movemos en la dirección dada. Con ello, partiremos de un punto arbritario $x^{(0)}$ y entonces en cada paso $k\\geq 0$ nos movemos de forma iterativa en la dirección $\\Delta x^{(k)}$ con un paso $t_{k}$ al siguiente punto $x^{(k+1)} = x^{(k)}+t_{k} \\cdot \\Delta x^{(k)}$.  En este método es importante considerar que nos movemos siempre en la dirección negativa (minimizar), por lo que tomamos el valor negativo del gradiente: $\\Delta x= - \\nabla f(x)$. Con ello, la búsqueda iterativa del descenso por gradiente se puede describir a través de la siguiente fórmula recursiva:\n",
    "\n",
    "<div style=\"text-align:center\">\n",
    "    <br />$x^{(k+1)}=x^{k}-t_{k} \\nabla f(x^{(k)})$\n",
    "    <br />\n",
    "</div>\n",
    "\n",
    "* ** Tamaño del paso: ** dado que deseamos minimizar la función, debemos escoger un valor que nos permite cumplir con la premisa de minimizar $f(x^{(k+1)}$. Dado que $x^{(k+1)}=x^{(k)}-t \\Delta f(x^{(k)})$, el tamaño del paso $t^{*}_{k}$ es una aproximación de:\n",
    "\n",
    " <div style=\"text-align:center\">\n",
    "    <br /> $t^{*}_{k} = arg\\,\\min\\limits_{t\\geq 0} f(x^{(k)}-t \\nabla f(x^{(k)}))$\n",
    "    <br />\n",
    " </div>\n",
    "\n",
    "* **Algoritm:** a continuación se detallan los pasos más importantes del algoritmo y se presenta un presenta un pseudo-código que describe cómo aplicarlo en base a una precisión $\\epsilon \\geq 0$ deseada[3]:\n",
    "\n",
    "![Algoritmo Descenso por Gradiente](Descenso-por-Gradiente.png)\n",
    "\n",
    "## Aplicaciones:\n",
    "\n",
    "Algunas de las diversas aplicaciones del método de descenso por gradiente son las que se señalan a continuación [2]:\n",
    "\n",
    "1. En el ámbito de la ingeniería, por ejemplo, minimmizar el consumo de combustible en un automóvil.\n",
    "2. En la economía, un caso concreto es la maximización de del retorno sobre la inversión.\n",
    "3. Logística en la cadena de suministros, minimizar el tiempo requerido para despachar una orden.\n"
   ]
  },
  {
   "cell_type": "markdown",
   "metadata": {},
   "source": [
    "## Ejemplo de aplicación:\n",
    "\n",
    "En el siguiente ejemplo vamos a ver cómo aplicar el algoritmo de descenso por gradiente para minimizar esta sencilla función:\n",
    "\n",
    "$y=x^{2}-2x+2$\n",
    "\n",
    "Para ello, graficamos la función, a fin de tener una idea más clara del lugar donde estará el punto que minimiza nuestra función. "
   ]
  },
  {
   "cell_type": "code",
   "execution_count": 12,
   "metadata": {},
   "outputs": [
    {
     "data": {
      "image/png": "[encoded data removed]",
      "text/plain": [
       "<matplotlib.figure.Figure at 0x7fdd6c7ca7f0>"
      ]
     },
     "metadata": {},
     "output_type": "display_data"
    }
   ],
   "source": [
    "import matplotlib.pyplot as pp\n",
    "import numpy as np\n",
    "\n",
    "\n",
    "def fx(x):\n",
    "    return np.power(x,2)-np.dot(x,2.)+2.\n",
    "\n",
    "x=np.arange(-7,9.5,0.5)\n",
    "y=fx(x)\n",
    "\n",
    "pp.plot(x,y)\n",
    "pp.grid(True)\n",
    "pp.show()"
   ]
  },
  {
   "cell_type": "markdown",
   "metadata": {},
   "source": [
    "### Usando cálculo:\n",
    "\n",
    "Si recordamos **cálculo matemático** (ver este [enlace](http://tutorial.math.lamar.edu/Classes/CalcI/Optimization.aspx) si se desea repasar el concepto), para minimizar la función anterior:\n",
    "\n",
    "$\\hat{f}(x)= \\min\\limits_{x} x^{2}-2x+2$\n",
    "\n",
    "Simplemente derivamos dicha función con respecto a $x$ y despejamos $x$:\n",
    "\n",
    "$\\frac{df}{dx} = 2x-2$\n",
    "\n",
    "$2x=2$\n",
    "\n",
    "$x=1$\n",
    "\n",
    "Con ello, podemos observar dónde se ubica dicho valor $x=1$"
   ]
  },
  {
   "cell_type": "code",
   "execution_count": 11,
   "metadata": {},
   "outputs": [
    {
     "data": {
      "image/png": "[encoded data removed]",
      "text/plain": [
       "<matplotlib.figure.Figure at 0x7fdd6c8210b8>"
      ]
     },
     "metadata": {},
     "output_type": "display_data"
    }
   ],
   "source": [
    "pp.plot(x,y)\n",
    "pp.plot([1],[1.-2.+2.],'ro')\n",
    "pp.grid(True)\n",
    "pp.show()"
   ]
  },
  {
   "cell_type": "markdown",
   "metadata": {
    "collapsed": true
   },
   "source": [
    "### Usando el algoritmo de Descenso por Gradiente [3]:\n",
    "\n",
    "Dado que no conocemos el valor óptimo de $x$, seleccionamos un valor aleatorio: $x=3$ y hacemos $k\\leftarrow 0$, como nos indica el algoritmo. Si evaluamos la función original en este punto, observaremos que se obtiene el sigiuente valor: $f(3)=3^{2}-2\\cdot 3+2 = 5$\n",
    "\n",
    "Calculamos la derivada de la función $y=x^{2}-2x+2$ (una sola vez, ya que se usará en los siguientes pasos):\n",
    "\n",
    "$\\frac{df}{dx} = 2x-2$\n",
    "\n",
    "\n",
    "1. A fin de encontrar el siguiente punto $x^{(k+1)}$ debemos calcular:\n",
    "<div style=\"text-align:center\">\n",
    "    <br />$x^{(1)}=x^{(0)}-t^{*}_{0} \\nabla f(x^{(0)})$\n",
    "    <br />\n",
    "</div>\\_ \n",
    "2. Para encontrar el valor de $t^{*}_{0}$, debemos hallar el mínimo de la función $\\theta(t) = f(x^{(0)})-t \\nabla f(x^{(0)}$. Para realizar este paso, buscamos en el punto estacionario trabajando con la derivada de la función a minimizar:\n",
    "\n",
    "  - Como primer paso calculamos el valor de la derivada de la función a minimizar en el punto $x^{(0)}$:\n",
    "<div style=\"text-align:center\">\n",
    "    <br />$f^{'}(x^{(0)}) = 2\\cdot x^{(0)}-2$\n",
    "    <br />$f^{'}(3) = 2\\cdot 3-2$\n",
    "    <br />$f^{'}(3) = 4$\n",
    "</div>\\_\n",
    "  Este punto representará nuestro valor $\\nabla f\\left( x^{(0)} \\right)$\n",
    "  - Luego de ello, calculamos el valor de $t^{*}_{k}$ empleando el punto $x^{(0)}$, y la función de $t$ y en base a la derivada de la función a minimizar:\n",
    "<div style=\"text-align:center\">\n",
    "    <br />$\\theta^{'}(t)=-\\nabla f\\left( x^{(0)} - t \\nabla f(x^{(0)} \\right) \\nabla f(x^{(0)})$\n",
    "    <br />$=-\\nabla f\\left( \\mathbf(4)-t \\nabla f(x^{0}) \\right) \\nabla f(x^{(0)})$\n",
    "    <br />$=-\\nabla f\\left( 4-t \\nabla f(3) \\right) \\nabla f(x^{(0)})$\n",
    "    <br />$=-\\nabla f\\left( 4-t\\cdot (4) \\right) \\nabla f(x^{(0)})$\n",
    "    <br />$=-\\nabla f\\left( 4-4t \\right) \\nabla f(x^{(0)})$\n",
    "</div>\n",
    "\\_       \n",
    "   En este punto, sustituimos $4-4t$ por $x$ en la función a minimizar que derivamos previamente $f^{'}(x)=2x-2$ y sustituimos $\\nabla f(x^{(0)})$ por el valor que calculamos de la derivada $(4):$\n",
    "<div style=\"text-align:center\">\n",
    "    <br />$=-\\left( 2\\cdot(4-4t)-2 \\right)\\nabla f(x^{(0)})$\n",
    "    <br />$=-\\left( 2\\cdot(4-4t)-2 \\right)\\cdot (4)$\n",
    "    <br />$=-\\left( 8-8t-2 \\right)\\cdot (4)$\n",
    "    <br />$=-\\left( 6-8t \\right)\\cdot (4)$\n",
    "    <br />$=-24+32t$\n",
    "</div>\n",
    "\\_\n",
    "   En este caso, $\\theta^{'}(t)=0$ sí y solo sí $t=0.75$. Con ello, $t_{0}=0.75$\n",
    "3. Dado lo anterior, el siguiente punto $x^{(1)}$ será:\n",
    "<div style=\"text-align:center\">\n",
    "    <br />$x^{(1)}=x^{(0)}-t^{*}_{0} \\nabla f(x^{(0)}$\n",
    "    <br />$x^{(1)}=3-0.75 \\nabla (4)$\n",
    "    <br />$x^{(1)}=0$\n",
    "</div>\n",
    "\n",
    "Si ahora evaluamos la función original con el nuevo punto $x=0$, obtenemos un valor menor, es decir, se ha minimizado la función: $f(0)=0^{2}-2\\cdot 0+2 = 2$\n",
    "\n",
    "Deberemos seguir repitiendo los pasos, hasta que el error obtenido sea menor al planteado en $\\epsilon$."
   ]
  },
  {
   "cell_type": "markdown",
   "metadata": {},
   "source": [
    "## Referencias\n",
    "1. [Nedrich Matt, An Introduction to Gradient Descent and Linear Regression, Atomic Object, 2014.](https://spin.atomicobject.com/2014/06/24/gradient-descent-linear-regression/)\n",
    "2. [Renjie Liao, CSC 411 Tutorial: Optimization for Machine Learning, Torondo University, 2016.](https://www.cs.toronto.edu/~urtasun/courses/CSC411_Fall16/tutorial2.pdf)\n",
    "3. [Singer Yaron, Advanced Optimization: Lecture 9, Harvard University, 2016](https://people.seas.harvard.edu/~yaron/AM221-S16/lecture_notes/AM221_lecture9.pdf)"
   ]
  }
 ],
 "metadata": {
  "kernelspec": {
   "display_name": "Python 2",
   "language": "python",
   "name": "python2"
  },
  "language_info": {
   "codemirror_mode": {
    "name": "ipython",
    "version": 3
   },
   "file_extension": ".py",
   "mimetype": "text/x-python",
   "name": "python",
   "nbconvert_exporter": "python",
   "pygments_lexer": "ipython3",
   "version": "3.6.3"
  }
 },
 "nbformat": 4,
 "nbformat_minor": 2
}
